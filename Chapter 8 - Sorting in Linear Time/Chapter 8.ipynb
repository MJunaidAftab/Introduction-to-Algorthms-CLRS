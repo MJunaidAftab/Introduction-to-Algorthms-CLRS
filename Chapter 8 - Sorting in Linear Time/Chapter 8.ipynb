{
 "cells": [
  {
   "cell_type": "code",
   "execution_count": 3,
   "metadata": {},
   "outputs": [],
   "source": [
    "import random\n",
    "import numpy as np"
   ]
  },
  {
   "cell_type": "markdown",
   "metadata": {},
   "source": [
    "# Section 8.1\n",
    "\n",
    "## Problem 1\n",
    "\n",
    "Assume the array has $n$ elements. Then we have that the smallest depth of a leaf in the binary decision tree will be $n$. This will be achieved when the array is already sorted. \n",
    "\n",
    "## Problem 2\n",
    "\n",
    "We have:\n",
    "\n",
    "$$\n",
    "\\lg ( n ! ) = \\sum_{k=1}^{n} \\lg k \\sim \\int_{1}^{n} \\lg x dx = \\Theta ( n \\lg n ).\n",
    "$$\n",
    "\n",
    "## Problem 3\n",
    "\n",
    "Consider $n!/2$ inputs when we run a comparison sort algorithm. If $l$ denotes the number of reachable leaves, and $h$ denotes the height of the binary tree, we must have that,\n",
    "\n",
    "$$\n",
    "n!/2 \\leq l \\leq 2^{h}.\n",
    "$$\n",
    "\n",
    "Taking logs, we have that we must have $h \\geq \\lg (n! / 2) = \\Theta \\big ( \\frac{n \\ lg n }{2} \\big ) = \\Theta ( n \\lg n)$. Hence even in the worst case, we must have that $ h = \\Omega ( n \\lg n)$.\n",
    "\n",
    "Now let's consider $1/n$ of the inputs of length $n$. We have the inequality,\n",
    "\n",
    "$$\n",
    "(n-1)! = n!/n \\leq l \\leq 2^{h}.\n",
    "$$\n",
    "\n",
    "Taking logs, we have that we must have $h \\geq \\lg ((n-1)!) = \\Theta ( (n - 1) \\lg (n - 1) ) = \\Theta ( n \\lg n) $. So again the answer is no.\n",
    "\n",
    "Now let's consider $1/2^{n}$ of the inputs of length $n$. We have the inequality,\n",
    "\n",
    "$$\n",
    "n!/2^{n} \\leq l \\leq 2^{h}.\n",
    "$$\n",
    "\n",
    "Taking logs, we have that we must have $h \\geq \\lg ( n!/2^{n} ) = \\lg (n!) - n = \\Theta (n \\lg n ) - \\Theta ( n ) = \\Theta (n \\lg n)$. So again the answer is no.\n",
    "\n",
    "## Problem 4\n",
    "\n",
    "WLOG, assume that $n = 4k$. Then for $k$ elements in the array, only $\\Theta(1)$ number of comparisons have to be made. Therefore, we can ignore the permutations in which each element in position $4l$ for $0 \\leq l \\leq k$ is not in position $4i - 1, 4i$ or $4i + 1$. Therefore, $3^k (3k)! = 3^{n/4} ( 3n/4 )! = \\Theta (n!)$ permutations in the leaf nodes. Hence the $\\Omega(n \\lg n)$ continues to hold.\n",
    "\n",
    "Consider $n/k$ binary trees, drawn side by side, illustrating the comparison sort algorthim on the $n/k$ subsequences. Now if $l$ denotes the TOTAL number of reachable leaves and if $h$ denotes the MAXIMUM of the individual heights of all the trees, we must have that,\n",
    "\n",
    "$$\n",
    "(n/k) k! \\leq l \\leq 2^{h}.\n",
    "$$\n",
    "\n",
    "Taking logs, we get that we must have $h \\geq \\lg \\big ( \\frac{n}{k} k! \\big ) = \\lg  ( n (k-1)! ) = \\Theta ( n \\lg k)$. Hence we must have that $h = \\Omega (n \\lg k)$.\n",
    "\n",
    "\n",
    "# Section 8.2"
   ]
  },
  {
   "cell_type": "code",
   "execution_count": 4,
   "metadata": {},
   "outputs": [],
   "source": [
    "def Counting_Sort(A,k):\n",
    "    \n",
    "    #We assume each input is an integer between 0 and k. Hence there are a totalof k + 1 possibilities for\n",
    "    #each entry.\n",
    "    \n",
    "    C = [0]*(k+1)\n",
    "    B = []\n",
    "    \n",
    "    n = len(A)\n",
    "    \n",
    "    for j in range(n):\n",
    "        B.append(0)   \n",
    "        C[A[j]] = C[A[j]] + 1\n",
    "        \n",
    "    #C[i] now contains the number of elements equal to i  \n",
    "    \n",
    "    for i in range(1,k+1):\n",
    "        \n",
    "        C[i] = C[i] + C[i-1]\n",
    "        \n",
    "    #C[i] now contains the number of elements less than or equal to i.\n",
    "    \n",
    "    for j in range(n-1,-1,-1):\n",
    "        \n",
    "        B[C[A[j]]-1] = A[j]\n",
    "        C[A[j]] = C[A[j]] - 1\n",
    "        \n",
    "    return B  "
   ]
  },
  {
   "cell_type": "markdown",
   "metadata": {},
   "source": [
    "## Problem 1"
   ]
  },
  {
   "cell_type": "code",
   "execution_count": 5,
   "metadata": {},
   "outputs": [
    {
     "name": "stdout",
     "output_type": "stream",
     "text": [
      "[0, 0, 1, 1, 2, 2, 3, 3, 4, 6, 6]\n"
     ]
    }
   ],
   "source": [
    "A = [6,0,2,0,1,3,4,6,1,3,2]\n",
    "B = Counting_Sort(A,6)\n",
    "print(B)"
   ]
  },
  {
   "cell_type": "markdown",
   "metadata": {},
   "source": [
    "## Problem 2\n",
    "\n",
    "This is clear.\n",
    "\n",
    "## Problem 4\n",
    "\n",
    "This is also clear. We give an informal argument. The loop invariant is true because each time an element with value $i$ is placed in $B$, the value of $C[i]$ is decreased by one. This ensures that $C$ is updated correctly such that each time $i$ is placed in its correct position in $B$, $C[i]$ is updated correctly and its value informs us of the the number of elements less than or equal to $i$ which are not currently processed.\n",
    "\n",
    "## Problem 6\n",
    "\n",
    "Use the same preprocessing as done in the COUNTING-SORT algorithm to construct the array $C$.  When queried about how many integers fall into a range $[a,b]$, simply compute $C[b] − C[a − 1]$. This takes $O(1)$ time.\n",
    "\n",
    "## Section 8.4"
   ]
  },
  {
   "cell_type": "code",
   "execution_count": 6,
   "metadata": {},
   "outputs": [],
   "source": [
    "def bucket_sort(A):\n",
    "    \n",
    "    n = len(A)\n",
    "    \n",
    "    # Find maximum value in the list and use length of the list to determine which value in the list goes into which bucket \n",
    "    max_value = max(A)\n",
    "    size = max_value/n\n",
    "\n",
    "    # Create n empty buckets where n is equal to the length of the input list\n",
    "    buckets = []\n",
    "    \n",
    "    for i in range(n):\n",
    "        \n",
    "        buckets.append([])\n",
    "\n",
    "    # Put list elements into different buckets based on the size\n",
    "    for i in range(n):\n",
    "        \n",
    "        j = int(A[i]/size)\n",
    "        \n",
    "        if j !=n:\n",
    "\n",
    "            buckets[j].append(A[i])\n",
    "            \n",
    "        else:\n",
    "            \n",
    "            buckets[n-1].append(A[i])\n",
    "    \n",
    "    #Sort elements within the buckets using some sorting algorithm \n",
    "    \n",
    "    for z in range(n):\n",
    "        \n",
    "        buckets[z].sort()\n",
    "            \n",
    "    # Concatenate buckets with sorted elements into a single list\n",
    "    output = []\n",
    "    \n",
    "    for x in range(n):\n",
    "        \n",
    "        output = output + buckets[x]\n",
    "    \n",
    "    return output"
   ]
  },
  {
   "cell_type": "markdown",
   "metadata": {},
   "source": [
    "## Problem 1"
   ]
  },
  {
   "cell_type": "code",
   "execution_count": 7,
   "metadata": {},
   "outputs": [
    {
     "name": "stdout",
     "output_type": "stream",
     "text": [
      "[1, 1, 1, 2, 2, 3, 3, 3, 4, 4]\n"
     ]
    }
   ],
   "source": [
    "A = []\n",
    "\n",
    "for i in range(10):\n",
    "    A.append(random.randint(1,5))\n",
    "\n",
    "print(bucket_sort(A))"
   ]
  },
  {
   "cell_type": "markdown",
   "metadata": {},
   "source": [
    "## Problem 2\n",
    "\n",
    "If all the keys fall in the same bucket and they happen to be in reverse order, we have to sort a single bucket with $n$ items in reversed order with insertion sort. This takes time $\\Theta ( n^2 )$. We can use merge sort or heapsort to improve the worst-case running time.\n",
    "\n",
    "## Problem 3\n",
    "\n",
    "We have $\\mathbf{E}(X) = 1, \\mathbf{E}(X) = 1.5, (\\mathbf{E}(X))^2 = 1$.\n",
    "\n",
    "## Problem 5\n",
    "\n",
    "Simply bucket sort by radius. We can take $r_i = \\sqrt{i/n}$.\n",
    "\n",
    "## Problem 6\n",
    "\n",
    "Simply perform bucket sort with non-equal intervals. We can choose the length of the i^th interval to be $p_{i+1} - p_i$ where $p_i$ is defined such that $\\mathbf{P}(X \\leq p_i) = i/n$."
   ]
  },
  {
   "cell_type": "code",
   "execution_count": null,
   "metadata": {},
   "outputs": [],
   "source": []
  },
  {
   "cell_type": "code",
   "execution_count": null,
   "metadata": {},
   "outputs": [],
   "source": []
  }
 ],
 "metadata": {
  "kernelspec": {
   "display_name": "Python 3",
   "language": "python",
   "name": "python3"
  },
  "language_info": {
   "codemirror_mode": {
    "name": "ipython",
    "version": 3
   },
   "file_extension": ".py",
   "mimetype": "text/x-python",
   "name": "python",
   "nbconvert_exporter": "python",
   "pygments_lexer": "ipython3",
   "version": "3.8.8"
  }
 },
 "nbformat": 4,
 "nbformat_minor": 4
}
