{
 "cells": [
  {
   "cell_type": "code",
   "execution_count": 1,
   "id": "987f3b1f",
   "metadata": {},
   "outputs": [],
   "source": [
    "import math"
   ]
  },
  {
   "cell_type": "markdown",
   "id": "c4d12275",
   "metadata": {},
   "source": [
    "In this notebook, we present solutions to problems in chapter 2 of the textbook."
   ]
  },
  {
   "cell_type": "markdown",
   "id": "91ecc448",
   "metadata": {},
   "source": [
    "# Section 2.1\n",
    "\n",
    "## Problem 1\n",
    "\n",
    "We first implement the insertion sort algorithm that sorts a list in ascending order. We then test the algorithm on the list $[31,41,59,26,41,58]$."
   ]
  },
  {
   "cell_type": "code",
   "execution_count": 2,
   "id": "9c528b49",
   "metadata": {},
   "outputs": [
    {
     "name": "stdout",
     "output_type": "stream",
     "text": [
      "Iteration # 1 has ended. The current array is: [31, 41, 59, 26, 41, 58]\n",
      "Iteration # 2 has ended. The current array is: [31, 41, 59, 26, 41, 58]\n",
      "Iteration # 3 has ended. The current array is: [26, 31, 41, 59, 41, 58]\n",
      "Iteration # 4 has ended. The current array is: [26, 31, 41, 41, 59, 58]\n",
      "Iteration # 5 has ended. The current array is: [26, 31, 41, 41, 58, 59]\n"
     ]
    }
   ],
   "source": [
    "def Insertion_Sort(array):\n",
    "    \n",
    "    length = len(array)\n",
    "    \n",
    "    for j in range(1,length):\n",
    "        \n",
    "        key = A[j]\n",
    "        #We now insert A[j] into the correct place in the sequence\n",
    "        i = j - 1\n",
    "        \n",
    "        while i>=0 and array[i] > key:\n",
    "            \n",
    "            array[i + 1] = array[i]\n",
    "            i = i - 1\n",
    "            \n",
    "        array[i + 1] = key\n",
    "        \n",
    "        print('Iteration #' + ' ' + str(j) + ' ' +  'has ended. The current array is:', array)\n",
    "    \n",
    "    sorted_array = A\n",
    "    \n",
    "    return sorted_array\n",
    "\n",
    "#Let's now test the insertion sort algorthim \n",
    "\n",
    "A = [31,41,59,26,41,58]\n",
    "sorted_array =  Insertion_Sort(A)"
   ]
  },
  {
   "cell_type": "markdown",
   "id": "c5b14965",
   "metadata": {},
   "source": [
    "## Problem 2\n",
    "\n",
    "The insertion sort algorithm that sorts a list in descending order is given by chanding the inequality sign in the condition for the while loop. \n",
    "\n",
    "## Problem 3\n",
    "\n",
    "We first implement the linear search algorithm that that finds an element in a list."
   ]
  },
  {
   "cell_type": "code",
   "execution_count": 3,
   "id": "67c54fa6",
   "metadata": {},
   "outputs": [],
   "source": [
    "def linear_search(A,v):\n",
    "    \n",
    "    i = 0\n",
    "    n = len(A)\n",
    "    check = A[i]\n",
    "    \n",
    "    while i <= n-1 and check != v:\n",
    "        \n",
    "        i = i + 1\n",
    "        \n",
    "        if i <= n-2:\n",
    "            \n",
    "            check = A[i]\n",
    "    \n",
    "    if i == n:\n",
    "        \n",
    "        print('The list does not contain the desired element.')\n",
    "        \n",
    "        return None \n",
    "        \n",
    "    else:\n",
    "        \n",
    "        print('Entry number ' + str(i + 1) + ' contains the desired element.')\n",
    "        \n",
    "        return i"
   ]
  },
  {
   "cell_type": "markdown",
   "id": "14c95fc8",
   "metadata": {},
   "source": [
    "The loop invariant in this code is: At the start of each iteration of the for loop, the subbarray, $A[0, ... , index-1],$ does not contain the desired element."
   ]
  },
  {
   "cell_type": "markdown",
   "id": "44cf6390",
   "metadata": {},
   "source": [
    "## Problem 4\n",
    "\n",
    "We implement an algorithm that adds two numbers in binary form."
   ]
  },
  {
   "cell_type": "code",
   "execution_count": 4,
   "id": "6118bab6",
   "metadata": {},
   "outputs": [],
   "source": [
    "def binary_sum(a,b):\n",
    "    \n",
    "    #Both integrs a and b are given in binary form. We first make the lengths of a and b the same\n",
    "    \n",
    "    n = len(a)\n",
    "    m = len(b)\n",
    "    \n",
    "    if n < m:\n",
    "        s\n",
    "        a = '0'*(m-n) + a\n",
    "        \n",
    "    elif m < n:\n",
    "        \n",
    "        b = '0'*(n-m) + b\n",
    "        \n",
    "    #We now add the two numbers.\n",
    "    \n",
    "    c = ''\n",
    "    carry = '0'\n",
    "    \n",
    "    for i in range(len(a)-1,-1,-1):\n",
    "        \n",
    "        if int(a[i]) + int(b[i]) == 0:\n",
    "            \n",
    "            c = carry + c\n",
    "            \n",
    "            if carry == '1':\n",
    "            \n",
    "                carry = '0'\n",
    "                \n",
    "        elif int(a[i]) + int(b[i]) == 1:\n",
    "            \n",
    "            carry = str(int(1 + int(carry)) % 2)\n",
    "            c = carry + c\n",
    "            carry = str(int(1 + int(carry)) % 2)\n",
    "            \n",
    "        \n",
    "        elif int(a[i]) + int(b[i]) == 2:\n",
    "            \n",
    "            c = carry + c\n",
    "            \n",
    "            if carry == '0':\n",
    "            \n",
    "                carry = '1'\n",
    "\n",
    "    c = carry + c\n",
    "    \n",
    "    return c"
   ]
  },
  {
   "cell_type": "markdown",
   "id": "222e2e46",
   "metadata": {},
   "source": [
    "# Section 2.2\n",
    "\n",
    "## Problem 1\n",
    "\n",
    "The function $n^3/1000 - 100n^2 - 100n + 3$ belongs to the complexity class $\\Theta ( n^3 ).$\n",
    "\n",
    "## Problem 2\n",
    "\n",
    "We implement the SELECTION SORT algorithm. We search for elements using a linear search. We then test the algorithm on the list $[31,41,59,26,41,58]$."
   ]
  },
  {
   "cell_type": "code",
   "execution_count": 5,
   "id": "5d5450cc",
   "metadata": {},
   "outputs": [
    {
     "name": "stdout",
     "output_type": "stream",
     "text": [
      "Iteration # 1 has ended. The current array is: [26, 41, 59, 31, 41, 58]\n",
      "Iteration # 2 has ended. The current array is: [26, 31, 59, 41, 41, 58]\n",
      "Iteration # 3 has ended. The current array is: [26, 31, 41, 59, 41, 58]\n",
      "Iteration # 4 has ended. The current array is: [26, 31, 41, 41, 59, 58]\n",
      "Iteration # 5 has ended. The current array is: [26, 31, 41, 41, 58, 59]\n"
     ]
    }
   ],
   "source": [
    "def Selection_Sort(array):\n",
    "    \n",
    "    length = len(array)\n",
    "    \n",
    "    for i in range(length-1):\n",
    "        \n",
    "        counter = i\n",
    "        \n",
    "        for j in range(i + 1, length):\n",
    "            \n",
    "            if array[j] < array[counter]:\n",
    "                \n",
    "                counter = j\n",
    "        \n",
    "        array[i], array[counter] = array[counter], array[i]\n",
    "        \n",
    "        print('Iteration #' + ' ' + str(i + 1) + ' ' +  'has ended. The current array is:', array)\n",
    "        \n",
    "    sorted_array = array\n",
    "    \n",
    "    return sorted_array\n",
    "\n",
    "#Let's now test the selection sort algorthim \n",
    "\n",
    "A = [31,41,59,26,41,58]\n",
    "sorted_array = Selection_Sort(A)"
   ]
  },
  {
   "cell_type": "markdown",
   "id": "ba207337",
   "metadata": {},
   "source": [
    "The loop invariant maintained by the algorithm is given by: At the start of each iteration of the for loop, the subbarray, $A[0, ... , index - 1],$ contains the first $index$ elements in ascending order. \n",
    "\n",
    "The best case running-time is $\\Theta ( n )$ when the array is already sorted. The worst case running time is $\\Theta ( n^2 )$ when the array is in reverse order.\n",
    "\n",
    "## Problem 3\n",
    "\n",
    "Best case: $\\Theta ( 1 )$,\n",
    "Worst case: $\\Theta ( n )$, and\n",
    "Average case: $\\Theta ( n )$.\n",
    "\n",
    "## Problem 4\n",
    "\n",
    "We can modify any algorithm to have a best case time complexity by adding a special case. If the input matches this special case, return the pre-computed answer.\n",
    "\n",
    "# Section 2.3\n",
    "\n",
    "We first implement the MergeSort algorithm. "
   ]
  },
  {
   "cell_type": "code",
   "execution_count": 6,
   "id": "994c6b6f",
   "metadata": {},
   "outputs": [],
   "source": [
    "def Merge(A,p,q,r):\n",
    "    \n",
    "    n1 = q - p + 1\n",
    "    n2 = r - q\n",
    "    \n",
    "    #We first populate two lists that contain the sorted subsequences A[p,...,q] and A[q+1,...,r]\n",
    "    \n",
    "    L = []\n",
    "    R = []\n",
    "    \n",
    "    for index in range(n1):\n",
    "        \n",
    "        L.append(A[index + p])\n",
    "        \n",
    "    for index in range(n2):\n",
    "        \n",
    "        R.append(A[index + q + 1])\n",
    "    \n",
    "    #We now overwrite the A[p,..,q,...r] section of the list by comparing the 'top-most'\n",
    "    #elements in the lists L and R and putting the smaller element in the corresponding\n",
    "    #entry in A. If one of the list is fully exposed/no longer available, we simply put the \n",
    "    #remaining list's elements in the corresponding positions in A.\n",
    "    \n",
    "    i = 0\n",
    "    j = 0\n",
    "    \n",
    "    for k in range(p,r+1):\n",
    "        \n",
    "        if i > n1-1:\n",
    "            A[k] = R[j]\n",
    "            j = j + 1\n",
    "        \n",
    "        elif j > n2-1:\n",
    "            A[k] = L[i]\n",
    "            i = i + 1\n",
    "            \n",
    "        elif L[i] < R[j]:\n",
    "            A[k] = L[i]\n",
    "            i = i + 1\n",
    "            \n",
    "        else:\n",
    "            A[k] = R[j]\n",
    "            j = j + 1 \n",
    "    \n",
    "    sorted_array = A\n",
    "    \n",
    "    return sorted_array\n",
    "\n",
    "#We now implement the MERGE-SORT algorithm.\n",
    "\n",
    "def Merge_Sort(A,p,r):\n",
    "    \n",
    "    if p == r:\n",
    "        \n",
    "        return A\n",
    "    \n",
    "    if p < r:\n",
    "        \n",
    "        q = math.floor((p+r)/2)\n",
    "        Merge_Sort(A,p,q)\n",
    "        Merge_Sort(A,q+1,r)\n",
    "        sorted_array = Merge(A,p,q,r)\n",
    "    \n",
    "    return sorted_array"
   ]
  },
  {
   "cell_type": "markdown",
   "id": "fa9e7329",
   "metadata": {},
   "source": [
    "## Problem 6\n",
    "\n",
    "\n",
    "We implement the binary search algorthim."
   ]
  },
  {
   "cell_type": "code",
   "execution_count": 55,
   "id": "5bc8a690",
   "metadata": {},
   "outputs": [],
   "source": [
    "def Binary_Search(S,start,end,v):\n",
    "    \n",
    "    #We first sort A using merge sort\n",
    "    n = end-start+1 \n",
    "    A = Merge_Sort(S,start,end)   \n",
    "    \n",
    "    if n == 1:\n",
    "        \n",
    "        index = None\n",
    "        \n",
    "        if A[start] == v:\n",
    "            \n",
    "            index = start\n",
    "            print('Entry number ' + str(index + 1) + ' contains the desired element.')\n",
    "            return index\n",
    "        \n",
    "        else:\n",
    "            \n",
    "            print('The list does not contain the desired element.')\n",
    "            return index\n",
    "    \n",
    "    else:\n",
    "       \n",
    "        middle = math.floor((start+end)/2)\n",
    "        \n",
    "        if A[middle] == v:\n",
    "            \n",
    "            index = middle\n",
    "            print('Entry number ' + str(index + 1) + ' contains the desired element.')\n",
    "            return index\n",
    "        \n",
    "        elif A[middle] > v:\n",
    "            \n",
    "            index  = Binary_Search(A,start,middle-1,v)\n",
    "            return index\n",
    "     \n",
    "        else:\n",
    "            index =  Binary_Search(A,middle + 1,end,v)\n",
    "            return middle+index     "
   ]
  },
  {
   "cell_type": "markdown",
   "id": "738f40d6",
   "metadata": {},
   "source": [
    "The recursion relation for the binary search algorthm is given by,\n",
    "$$\n",
    "T(n) = T(n/2) + \\Theta (1).\n",
    "$$\n",
    "The solution is $\\Theta(\\lg n)$ by the master method."
   ]
  },
  {
   "cell_type": "markdown",
   "id": "a9d5dfe8",
   "metadata": {},
   "source": [
    "## Problem 8"
   ]
  },
  {
   "cell_type": "code",
   "execution_count": 23,
   "id": "4e59f271",
   "metadata": {},
   "outputs": [],
   "source": [
    "def sum_in_set(S,x):\n",
    "    \n",
    "    #We first sort the set S using merge sort\n",
    "    n = len(S)\n",
    "    Sorted_S = Merge_Sort(S,0,n-1)\n",
    "    \n",
    "    #Now for each element s in Sorted_S, we check whether s - x is in Sorted_S using binary search\n",
    "    \n",
    "    for s in Sorted_S:\n",
    "        \n",
    "        index = Binary_Search(Sorted_S,0,n-1,x-s)\n",
    "        \n",
    "        if index != None:\n",
    "            \n",
    "            print('The set contains the integers', s, 'and', x-s, 'that sum to', x)\n",
    "            return s, x-s\n",
    "    \n",
    "    print('The set does not contain two integers that sum to', x)\n",
    "    \n",
    "    return None"
   ]
  },
  {
   "cell_type": "code",
   "execution_count": null,
   "id": "42f38d7a",
   "metadata": {},
   "outputs": [],
   "source": []
  },
  {
   "cell_type": "code",
   "execution_count": null,
   "id": "e75a5b50",
   "metadata": {},
   "outputs": [],
   "source": []
  },
  {
   "cell_type": "code",
   "execution_count": null,
   "id": "7e742317",
   "metadata": {},
   "outputs": [],
   "source": []
  },
  {
   "cell_type": "code",
   "execution_count": null,
   "id": "cab74a31",
   "metadata": {},
   "outputs": [],
   "source": []
  }
 ],
 "metadata": {
  "kernelspec": {
   "display_name": "Python 3",
   "language": "python",
   "name": "python3"
  },
  "language_info": {
   "codemirror_mode": {
    "name": "ipython",
    "version": 3
   },
   "file_extension": ".py",
   "mimetype": "text/x-python",
   "name": "python",
   "nbconvert_exporter": "python",
   "pygments_lexer": "ipython3",
   "version": "3.8.8"
  }
 },
 "nbformat": 4,
 "nbformat_minor": 5
}
