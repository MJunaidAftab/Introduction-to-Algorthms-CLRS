{
 "cells": [
  {
   "cell_type": "markdown",
   "metadata": {},
   "source": [
    "## 2-1\n",
    "\n",
    "### Part a\n",
    "\n",
    "Recall that for insertion sort if the length of the list is $m$, the time complexity of the algorithm is $\\Theta (m^2)$ in worst-case. If we sort sorts $n/k$  lists of length $k$ using insertion sort, each list is sorted in time $\\Theta (k^2)$ in worst-case. Since there are a total of $n/k$ lists, the time complexity of the algorithm is $n/k \\; \\Theta (k^2) = \\Theta (n/k)$ in worst-case.\n",
    "\n",
    "### Part b\n",
    "\n",
    "We have $n/k$ sorted sublists each of length $k$. To merge these $n/k$ sorted sublists to a single sorted list of length $n$, we take $2$ sublists at a time and continue to merge them. This will result in $ \\Theta ( \\lg(n / k)  )$ steps and we compare $N$ elements in each step. Therefore, the worst-case time $ \\Theta (n \\lg(n / k))$.\n",
    "\n",
    "### Part c\n",
    "\n",
    "The recurrence relation for the modified algorithm is given by \n",
    "\n",
    "Using the arguments above, the solution to this recurrence relation is,\n",
    "\n",
    "$$\n",
    "T(n) = \\Theta (nk + n\\lg(n/k)).\n",
    "$$\n",
    "\n",
    "Standard merge sort runs in $\\Theta (n \\lg n)$ time. To have the modified algorithm have the same running time as standard merge sort, we'd need to have $\\Theta (n \\lg n) = \\Theta (nk + n\\lg(n/k))$, which is equivalent to the condition,\n",
    "\n",
    "$$\n",
    "\\lim_{n \\rightarrow \\infty} \\frac{nk(n) + n\\lg(n/k(n))}{n \\lg n} = \\lim_{n \\rightarrow \\infty} \\frac{k(n) + \\lg(n/k(n))}{\\lg n} \n",
    "= \\lim_{n \\rightarrow \\infty} \\frac{k(n) + \\lg n - \\lg k(n)}{\\lg n} = \\lim_{n \\rightarrow \\infty} 1 + \\frac{k(n)}{\\lg n}  - \\frac{\\lg k(n)}{\\lg n},\n",
    "$$\n",
    "\n",
    "to be finite and neither $0$ nor $+ \\infty$. A sufficient condition is that $k(n) = \\Theta ( \\lg n)$ or $o(\\lg n)$ for that matter.\n",
    "\n",
    "### Part d\n",
    "\n",
    "Choose $k$ be the largest length of sublist on which insertion sort is faster than merge sort.\n",
    "\n",
    "# Problem 2"
   ]
  },
  {
   "cell_type": "code",
   "execution_count": 1,
   "metadata": {},
   "outputs": [],
   "source": [
    "def Bubble_Sort(A):\n",
    "    \n",
    "    n = len(A)\n",
    "    \n",
    "    for i in range(0,n-1):\n",
    "        \n",
    "        for j in range(n-1,i,-1):\n",
    "            \n",
    "            if A[j] < A[j-1]:\n",
    "                \n",
    "                A[j], A[j-1] = A[j-1], A[j]\n",
    "                \n",
    "    return A"
   ]
  },
  {
   "cell_type": "markdown",
   "metadata": {},
   "source": [
    "The loop invaraint is:\n",
    "\n",
    "At the start of each of the round of the outer iteration, the subarray $A[i,...,n]$ consists of the elements originally in  $A[i,...,n]$ before entering the loop but possibly in a different order. Additionally, $A[1,...,i-1]$ is correctly sorted with the largest element in ths list being the smallest element from the list  $A[i,...,n]$ obtained from the PREVIOUS iteration.\n",
    "\n",
    "The time complexity of this algorithm is given by the expression (here we use the pseudocode written in the book),\n",
    "\n",
    "$$\n",
    "T(n) = \\Theta \\Bigg (  \\sum_{i = 1}^{n-1} \\sum_{j = i + 1}^{n} t_{ij} \\Bigg ) = \\Theta \\Bigg (  \\sum_{i = 1}^{n-1} \\sum_{j = i + 1}^{n} t_{ij} \\Bigg ),\n",
    "$$\n",
    "\n",
    "where $t_{ij}$ is either $0$ or $1$ depeding on whether the if statement is executed. We analyze the worst case running time of the algorithm. We get.\n",
    "\n",
    "$$\n",
    "\\begin{align}\n",
    "T(n) & = O \\Bigg ( \\sum_{i = 1}^{n-1} \\sum_{j = i + 1}^{n} 1 \\Bigg ), \\\\\n",
    "     & = O \\Bigg ( \\sum_{i = 1}^{n-1} n - i \\Bigg ), \\\\\n",
    "     & = O \\Bigg ( \\sum_{k = 1}^{n-1} k \\Bigg ), \\\\\n",
    "     & = O \\Bigg ( \\sum_{k = 1}^{n - 1} k \\Bigg ), \\\\\n",
    "     & = O ( n^2 ).\n",
    "\\end{align}\n",
    "$$"
   ]
  },
  {
   "cell_type": "markdown",
   "metadata": {},
   "source": [
    "# Problem 3\n",
    "\n",
    "### Part a"
   ]
  },
  {
   "cell_type": "code",
   "execution_count": 12,
   "metadata": {},
   "outputs": [],
   "source": [
    "def Horners_Rule(A):\n",
    "    \n",
    "    #A contains the list of coefficients\n",
    "    \n",
    "    y = 0\n",
    "    \n",
    "    for i in range(n,-1,-1):\n",
    "        y = A[i] + x*y"
   ]
  },
  {
   "cell_type": "markdown",
   "metadata": {},
   "source": [
    "The running time is $\\Theta (n)$.\n",
    "\n",
    "### Part b"
   ]
  },
  {
   "cell_type": "code",
   "execution_count": 2,
   "metadata": {},
   "outputs": [],
   "source": [
    "def Naive_Horner(A):\n",
    "    \n",
    "    y = 0\n",
    "    \n",
    "    for i in range(0,n+1):\n",
    "        \n",
    "        z = A[i]\n",
    "        \n",
    "        for j in range(0,i):\n",
    "            \n",
    "            z = z*x\n",
    "        \n",
    "        y = y + z"
   ]
  },
  {
   "cell_type": "markdown",
   "metadata": {},
   "source": [
    "The running time of the algorithm is $\\Theta(n^2)$."
   ]
  },
  {
   "cell_type": "markdown",
   "metadata": {},
   "source": [
    "# Problem 4\n",
    "\n",
    "### Part a\n",
    "\n",
    "The inversions are $(1, 5), (2, 5), (3, 4), (3,5), (4,5)$.\n",
    "\n",
    "### Part b\n",
    "\n",
    "The array $[n, n-1, n-2, ... , 3, 2, 1]$ has the most inversions. It has a total of $n(n-1)/2$ inversions.\n",
    "\n",
    "### Part c\n",
    "\n",
    "The running time of insertion sort is of the order of magnitude of the number of inversions in the input array. The reason is that the time complexity of insertion sort is determined by i) the number of items in the list and ii) the number of adjacent inverted elements in one of the multiple subarrays we consider while placing each element in its right place in the list. But that's what exactly measures the number of inversions in an array.\n",
    "\n",
    "### Part d"
   ]
  },
  {
   "cell_type": "code",
   "execution_count": 5,
   "metadata": {},
   "outputs": [],
   "source": [
    "def Merge_Number_Of_Inversions(A,p,q,r,Inversions_Left,Inversions_Right):\n",
    "    \n",
    "    n1 = q - p + 1\n",
    "    n2 = r - q\n",
    "    \n",
    "    Inv_L = Inversions_Left\n",
    "    Inv_R = Inversions_Right\n",
    "    \n",
    "    Inversions = Inv_L + Inv_R\n",
    "    \n",
    "    #We first populate two lists that contain the subsequences A[p,...,q] and A[q+1,...,r] for which we have\n",
    "    #computed the number of inversions AND SORTED\n",
    "    \n",
    "    L = []\n",
    "    R = []\n",
    "    \n",
    "    for index in range(n1):\n",
    "        L.append(A[index + p])\n",
    "        \n",
    "    for index in range(n2):\n",
    "        R.append(A[index + q + 1])\n",
    "    \n",
    "    #We now compute the number of inversions by taking pairs of indicies such that elements with the first \n",
    "    #index come from the first (L) list and elements from the second list come from the second (R) list.\n",
    "    #if $L[i] < L[j]$ we don't increase the inversion number.\n",
    "       \n",
    "    \n",
    "    i = 0\n",
    "    j = 0\n",
    "    \n",
    "    for k in range(p,r+1):\n",
    "        \n",
    "        if i > n1-1:\n",
    "            A[k] = R[j]\n",
    "            j = j + 1\n",
    "        \n",
    "        elif j > n2-1:\n",
    "            A[k] = L[i]\n",
    "            i = i + 1\n",
    "            \n",
    "        elif L[i] > R[j]:\n",
    "            A[k] = R[j]\n",
    "            j = j + 1\n",
    "            Inversions = Inversions + (n1 - i)\n",
    "            \n",
    "        else:\n",
    "            A[k] = L[i]\n",
    "            i = i + 1             \n",
    "    \n",
    "    return Inversions"
   ]
  },
  {
   "cell_type": "code",
   "execution_count": 8,
   "metadata": {},
   "outputs": [],
   "source": [
    "#We now implement the MERGE-INVERSIONS algorithm.\n",
    "\n",
    "import math\n",
    "\n",
    "def Merge_Inversions(A,p,r):\n",
    "\n",
    "    n = r - p + 1\n",
    "    Inversions = 0\n",
    "    \n",
    "    if n == 1:\n",
    "        \n",
    "        Inversions = 0\n",
    "        \n",
    "        return Inversions\n",
    "    \n",
    "    if n == 2:\n",
    "        \n",
    "        if A[p] > A[p+1]:\n",
    "            \n",
    "            Inversions = 1\n",
    "            A[p], A[p+1] = A[p+1], A[p]\n",
    "            \n",
    "            return Inversions\n",
    "        \n",
    "        else:\n",
    "            \n",
    "            Inversions = 0\n",
    "        \n",
    "            return Inversions\n",
    "        \n",
    "    else:\n",
    "    \n",
    "        q = math.floor((p+r)/2)\n",
    "        Inversions_Left = Merge_Inversions(A,p,q)\n",
    "        Inversions_Right = Merge_Inversions(A,q+1,r)\n",
    "        Temp_Inversions = Merge_Number_Of_Inversions(A,p,q,r,Inversions_Left,Inversions_Right)\n",
    "    \n",
    "        Inversions = Inversions + Temp_Inversions\n",
    "    \n",
    "        return Inversions"
   ]
  },
  {
   "cell_type": "markdown",
   "metadata": {},
   "source": [
    "We only added a constant time operation, so we're good. The run time complexity is still $ \\Theta ( n \\lg n )$."
   ]
  },
  {
   "cell_type": "code",
   "execution_count": null,
   "metadata": {},
   "outputs": [],
   "source": []
  }
 ],
 "metadata": {
  "kernelspec": {
   "display_name": "Python 3",
   "language": "python",
   "name": "python3"
  },
  "language_info": {
   "codemirror_mode": {
    "name": "ipython",
    "version": 3
   },
   "file_extension": ".py",
   "mimetype": "text/x-python",
   "name": "python",
   "nbconvert_exporter": "python",
   "pygments_lexer": "ipython3",
   "version": "3.8.8"
  }
 },
 "nbformat": 4,
 "nbformat_minor": 2
}
