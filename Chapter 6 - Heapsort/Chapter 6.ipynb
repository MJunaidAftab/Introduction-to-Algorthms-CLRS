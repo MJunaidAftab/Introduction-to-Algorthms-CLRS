{
 "cells": [
  {
   "cell_type": "markdown",
   "metadata": {},
   "source": [
    "# Section 6.1\n",
    "\n",
    "## Problem 1\n",
    "\n",
    "Let a heap have height $h$. At level $i$ of the heap, the heap contains at most $2^{i}$ elements, where $i$ ranges from $0$ to $h$. Since the heap is a complete binary tree for each of the first $h-1$ levels, then we have that these levels have a total of,\n",
    "\n",
    "$$\n",
    "\\sum_{i = 0}^{h - 1} 2^{i} = 2^{h} - 1,\n",
    "$$\n",
    "\n",
    "elements. The last level can have anyhwere between $1$ and $2^{h}$ elements (a complete binary tree is allowed). Hence the heap has a minimum of $2^{h}$ elements and a maximum $2^{h + 1} - 1$ elements.\n",
    "\n",
    "## Problem 2\n",
    "\n",
    "Let a heap contain a total of $n$ elements. Let the heap have height $x$. Then from the previous question we have that the heap contains a minimum of $2^{x}$ elements and a maximum $2^{x + 1} - 1$ elements. Assume that that the height of the heap, $h$, is greater than $(\\lg n)$ (here (.) represents the floor function). Since $h \\geq (\\lg n) + 1 > \\lg n$, we must have that the the heap contains at least $2^{h} > 2^{\\lg n} = n$ elements, a contradiction. Similarly if $h < ( \\lg n ),$ then $h \\leq ( \\lg n ) - 1 \\leq \\lg n - 1 $, then the heap contains a maximum of $2^{\\lg n - 1 + 1} - 1 = n - 1$ elements, a contradition. Hence we must have that $h = ( \\lg n)$.\n",
    "\n",
    "## Problem 3\n",
    "\n",
    "It's clear by the Max-Heap property that in any subtree of a max-heap, the root of the subtree contains the largest\n",
    "value occurring anywhere in that subtree, since any subtree trivially satisfies the Max-Heap property.\n",
    "\n",
    "## Problem 4\n",
    "\n",
    "In the leaf nodes.\n",
    "\n",
    "## Problem 5\n",
    "\n",
    "Yes.\n",
    "\n",
    "## Problem 6\n",
    "\n",
    "No.\n",
    "\n",
    "## Problem 7\n",
    "\n",
    "Note that it suffices to show that the element at node $(n/2)$ has either a left or a right child and that the elemenet at node $(n/2) + 1$ has no child. Noting that $n - 2 < 2(n/2) \\leq n$ implies that the element at node $(n/2)$ has a left child. The inequalities above also imply that the left child is the element at either node $n - 1$ or $n$. In the first case, we see that the element at elemenet at node $(n/2)$ has a right child as well and the element at node $(n/2) + 1$ has no child as all elements in the array have been exhausted. In the second case, elemenet at node $(n/2)$ has no right child and consequently the element at node $(n/2) + 1$ doesn't have a child as well. This proves the claim."
   ]
  },
  {
   "cell_type": "markdown",
   "metadata": {},
   "source": [
    "# Section 6.2"
   ]
  },
  {
   "cell_type": "code",
   "execution_count": 9,
   "metadata": {},
   "outputs": [],
   "source": [
    "def Max_Heapify(A,i,heap_size):\n",
    "    \n",
    "    index = i\n",
    "    left = 2*index + 1\n",
    "    right = 2*index + 2\n",
    "    \n",
    "    while left <= heap_size or right <=heap_size:\n",
    "        \n",
    "        largest = index\n",
    "        \n",
    "        if left <= heap_size and A[left] > A[largest]: \n",
    "        \n",
    "            largest = left\n",
    "    \n",
    "        if right <=heap_size and A[right] > A[largest]:\n",
    "            \n",
    "            largest = right\n",
    "        \n",
    "        if largest == index:\n",
    "            \n",
    "            return A\n",
    "        \n",
    "        else:\n",
    "        \n",
    "            A[index], A[largest] = A[largest], A[index]\n",
    "            \n",
    "            index = largest\n",
    "            left = 2*index + 1\n",
    "            right = 2*index + 2\n",
    "            \n",
    "    return A        "
   ]
  },
  {
   "cell_type": "markdown",
   "metadata": {},
   "source": [
    "## Problem 1\n",
    "\n",
    "We simply state the final answer by applying the algorithm implemented above."
   ]
  },
  {
   "cell_type": "code",
   "execution_count": 10,
   "metadata": {},
   "outputs": [
    {
     "data": {
      "text/plain": [
       "[27, 17, 10, 16, 13, 9, 1, 5, 7, 12, 4, 8, 3, 0]"
      ]
     },
     "execution_count": 10,
     "metadata": {},
     "output_type": "execute_result"
    }
   ],
   "source": [
    "A = [27, 17, 3, 16, 13, 10, 1, 5, 7, 12, 4, 8, 9, 0]\n",
    "n = len(A)\n",
    "Max_Heapify(A,2,n-1)"
   ]
  },
  {
   "cell_type": "markdown",
   "metadata": {},
   "source": [
    "## Problem 2\n",
    "\n",
    "In the worst case secnario, the MAX-HEAP is such that the left subtree has more level than the right sub-tree. Assume the height of the tree is $h$. In this case, the right subtree contains $2^{h-1} - 1$ elements. In addition to $2^{h-1} - 1$ elements, the left subtree additionally contains $2^{h-1}$ elements. We have:\n",
    "\n",
    "$$\n",
    "\\frac{|L|}{|L| + |R|}\n",
    "=\n",
    "\\frac{2^h - 1}{2^{h-1} + 2^h - 2}.\n",
    "$$\n",
    "\n",
    "Since $h = \\Theta ( \\lg n )$, the above ratio is approximately:\n",
    "\n",
    "$$\n",
    "\\frac{|L|}{|L| + |R|}\n",
    "=\n",
    "\\frac{n - 1}{n/2 + n - 2}\n",
    "=\n",
    "\\frac{n - 1}{n/2 + n - 2}\n",
    "=\n",
    "\\frac{2(n-1)}{3n - 4}.\n",
    "$$\n",
    "\n",
    "Taking the limit as $n$ goes to infinity, we see that this ratio is at most $2/3$, proving the claim.\n",
    "\n",
    "## Problem 3"
   ]
  },
  {
   "cell_type": "code",
   "execution_count": 23,
   "metadata": {},
   "outputs": [],
   "source": [
    "def Min_Heapify(A,i,heap_size):\n",
    "    \n",
    "    index = i\n",
    "    left = 2*index + 1\n",
    "    right = 2*index + 2\n",
    "\n",
    "    \n",
    "    while left <= heap_size or right <=heap_size:\n",
    "        \n",
    "        smallest = index\n",
    "        \n",
    "        if left <= heap_size and A[left] < A[smallest]: \n",
    "        \n",
    "                smallest = left\n",
    "    \n",
    "        if right <=heap_size and A[right] < A[smallest]:\n",
    "            \n",
    "            smallest = right\n",
    "        \n",
    "        if smallest == index:\n",
    "            \n",
    "            return A\n",
    "        \n",
    "        if smallest != i :\n",
    "        \n",
    "            A[index], A[smallest] = A[smallest], A[index]\n",
    "            \n",
    "            index = smallest\n",
    "            left = 2*index + 1\n",
    "            right = 2*index + 2\n",
    "            \n",
    "    return A   "
   ]
  },
  {
   "cell_type": "markdown",
   "metadata": {},
   "source": [
    "## Problem 4\n",
    "\n",
    "Nothing. The algorithm returns the original array in constant time.\n",
    "\n",
    "## Problem 5\n",
    "\n",
    "Nothing. The algorithm returns the original array in constant time since the relevant node has no children.\n",
    "\n",
    "## Problem 6\n",
    "\n",
    "See the code above.\n",
    "\n",
    "\n",
    "## Problem 7\n",
    "\n",
    "Consider a heap with $n$ nodes such that $A[1] = 1$ and $A[i] = 2$ for $i \\geq 2$. Consider the subtree that spans only till the level $h-1$ where $h$ is the height of the tree. Then this subtreee has $2^{h} - 1 = 2^{ ( \\lg n ) } - 1$ elements. We have the following argument then:\n",
    "\n",
    "$$\n",
    "\\begin{align}\n",
    "T(n) & \\geq T ( 2^{ ( \\lg n ) } - 1 ) + \\Theta ( 1 ), \\\\\n",
    "     & \\geq  T \\bigg ( \\frac{2^{ ( \\lg n )}}{2} \\bigg ) + \\Theta ( 1 )^{!}, \\\\ \n",
    "     & \\geq T \\bigg ( \\frac{2^{ \\lg n  - 1}}{2} \\bigg ) + \\Theta ( 1 )^{!}, \\\\\n",
    "     & = T \\bigg ( \\frac{n}{4} \\bigg ) + \\Theta ( 1 ), \\\\\n",
    "     & := S(n) + \\Theta ( 1 ).\n",
    "\\end{align}\n",
    "$$\n",
    "\n",
    "By the master theorem, we have $S(n) = \\Theta ( \\lg n)$, which implies that $T(n) = \\Omega (\\lg n)$.\n",
    "\n",
    "!Here we implicitly assume that $T$ is increasing which is natural to assume."
   ]
  },
  {
   "cell_type": "markdown",
   "metadata": {},
   "source": [
    "# Section 6.3"
   ]
  },
  {
   "cell_type": "code",
   "execution_count": 24,
   "metadata": {},
   "outputs": [],
   "source": [
    "import math\n",
    "\n",
    "def Build_Max_Heap(A,heap_size):\n",
    "\n",
    "    n = len(A)\n",
    "    q = math.floor(n/2)\n",
    "    \n",
    "    for index in range(q,-1,-1):\n",
    "        \n",
    "        Max_Heapify(A,index,heap_size)\n",
    "    \n",
    "    return A"
   ]
  },
  {
   "cell_type": "code",
   "execution_count": 25,
   "metadata": {},
   "outputs": [],
   "source": [
    "def Build_Min_Heap(A,heap_size):\n",
    "\n",
    "    n = len(A)\n",
    "    q = math.floor(n/2)\n",
    "    \n",
    "    for index in range(q,-1,-1):\n",
    "        \n",
    "        Min_Heapify(A,index,heap_size)\n",
    "    \n",
    "    return A"
   ]
  },
  {
   "cell_type": "markdown",
   "metadata": {},
   "source": [
    "## Problem 1\n",
    "\n",
    "We simply state the final answer by applying the algorithm implemented above."
   ]
  },
  {
   "cell_type": "code",
   "execution_count": 26,
   "metadata": {},
   "outputs": [
    {
     "data": {
      "text/plain": [
       "[84, 22, 19, 10, 3, 17, 6, 5, 9]"
      ]
     },
     "execution_count": 26,
     "metadata": {},
     "output_type": "execute_result"
    }
   ],
   "source": [
    "B = [5,3,17,10,84,19,6,22,9]\n",
    "n = len(B)\n",
    "\n",
    "heap_size = n - 1\n",
    "Build_Max_Heap(B, n-1)"
   ]
  },
  {
   "cell_type": "markdown",
   "metadata": {},
   "source": [
    "### Asymptotic analysis of Build_Max_Heap\n",
    "\n",
    "Naively, each call to MAX_HEAPIFY_RECURSIVE costs $ O ( \\lg n )$  time, and BUILD_MAX_HEAP makes $O ( n ) $ such calls. Thus, the running time is $O ( n lg n )$. This upper bound, though correct, is not asymptotically tight. We can derive a tighter bound by observing that the time for MAX_HEAPIFY_RECURSIVE to run at a node varies with the height of the node in the tree, and the heights of most nodes are small.\n",
    "\n",
    "Recall that an $n$ element heap has heigh $( \\lg n)$. We first show that there are at most $ \\big [ \\frac{n}{2^{h + 1}} \\big ] $ nodes of height $h$ in any $n$ element heap. Here $[ . ]$ denotes the ceiling function.\n",
    "\n",
    "## Problem 3\n",
    "\n",
    "<font color='red'>Intuition: Note that the value of $h$ varies from $0$ to $(\\lg n)$, and nodes of height $h$ occur at level $(\\lg n) - h$. So in particular the only node of height $(\\lg n)$ occurs at level 0; nodes of height $(\\lg n) - 1$ occur at level 1 and so on. At level $(\\lg n) - h$, there are AT MOST $2^{(\\lg n) - h}$ nodes. BUT note that except for the root and the leaves, all the nodes at the appropriate level number may not be yield a subtree of the desired height as this depend on whehter a leaf at the last level can be be reached or not. So at level $(\\lg n) - h$, the height of each node is either $h$ or $h - 1$, depending on whether one the leafs can be reached or not.  Having said that it is easy to estimate the number of nodes of a particular height, h, by the number $2^{(\\lg n) - h}$. This number is such that,\n",
    "    \n",
    "$$\n",
    "\\frac{n}{2^{h + 1}} = 2^{\\lg n - 1 - h} < 2^{(\\lg n) - h} \\leq 2^{\\lg n - h} = \\frac{n}{2^{h}}\n",
    "$$\n",
    "\n",
    "Since the numbers of nodes of height $h$ may not exactly be $2^{(\\lg n) - h}$, we conjecture the number of such nodes is of the order of $\\frac{n}{2^{h + 1}}$. Let try this for some extreme cases.\n",
    "    \n",
    "For $h = (\\lg n)$ there is only one such node (the root) and note that $\\frac{n}{2^{(\\lg n) + 1}} < 1$ as $2^{(\\lg n) + 1} > 2^{\\lg n} = n$. Hence the correct number is given by $\\big [ \\frac{n}{2^{(\\lg n) + 1}} \\big ]$.\n",
    "\n",
    "For $h = 0$, note that $\\frac{n}{2^{0 + 1}} = \\frac{n}{2}$. Also note that the leaves occur at the nodes $(n/2) + 1$ to $n$, so there are $n - (n/2)$ nodes of height 0. Since $(n/2) + [n/2] = n$, then $[n/2]$ is the desired number. Hence we conjecture that the desired number is given by,\n",
    "    \n",
    "$$\n",
    "\\bigg [ \\frac{n}{2^{h + 1}} \\bigg ].\n",
    "$$\n",
    "    \n",
    "The best thing to do now is to try a proof by induction. However, note that when the tree is complete, then we can use the above argument.\n",
    "</font>\n",
    "\n",
    "First assume that the tree is complete with $n$ nodes. Let $n = 2^{k} - 1$. In this case the height of the tree is $k - 1 = (\\lg n).$ Nodes of height $h$, which ranges from $0$ to $k - 1$ are at level $k - 1 - h$. More importantly, note that EVERY node at appropriate level is a node of the appropriate height. Hence in this case, we have that the number of nodes of height $h$ in an $n$-element tree is given by the number,\n",
    "\n",
    "$$\n",
    "2^{(\\lg n) - h} = 2^{k - 1 - h}.\n",
    "$$\n",
    "\n",
    "Also note that,\n",
    "\n",
    "$$\n",
    "\\bigg [ \\frac{n}{2^{h + 1}} \\bigg ] = \\bigg [ \\frac{2^{k} - 1}{2^{h + 1}} \\bigg ] = \\bigg [ 2^{k - h - 1} - \\frac{1}{2^{h + 1}} \\bigg ] = 2^{k - h - 1} - \\bigg [ \\frac{1}{2^{h + 1}} \\bigg ] = 2^{k - h - 1}.\n",
    "$$\n",
    "\n",
    "This proves the result for the case when we are dealing with a complete binary tree. Now consider the case we are dealing with an incomplete tree. Let's proceed by induction.\n",
    "\n",
    "The base case $h = 0$ is true as argued above. Assume the claim is true for values less than $h$. In particular, the number of nodes of height $h - 1$ is AT MOST $\\bigg [ \\frac{n}{2^{h }} \\bigg ]$. Let $n_{h-1}$ denote this number. Now nodes of height $h$ occur at the level ABOVE the level at which all nodes of height $h-1$ occur, as argued above. Moreover, at the level above, the children of the nodes of height $h$ have to have height $h - 1$ so it sufficies to assume, WLOG, that ALL nodes at the current level are at most $n_{h-1}$. Let's now work our way upwards and show that the number of nodes of height $h$ at the level above are bounded by the number $\\bigg [ \\frac{n}{2^{h + 1}} \\bigg ]$. If $n_{h-1}$ is even, then there are $\\frac{n_{h-1}}{2}$ parents of these nodes at the level above. If $n_{h-1}$ is odd, then then number of parents would be given by $\\frac{n_{h-1} + 1}{2}$. Hence we have that,\n",
    "\n",
    "$$\n",
    "n_{h} = \\bigg [ \\frac{n_{h-1}}{2} \\bigg ] \\leq  \\Bigg [ \\frac{\\big [ \\frac{n}{2^{h }} \\big ]}{2} \\Bigg ] = \\bigg [ \\frac{n}{2^{h+1}}\\bigg ]\n",
    "$$\n",
    "\n",
    "using a property of floor/ceiling functions mentioned in the previous unit. This completes the proof.\n",
    "\n",
    "This would then imply that the complexity of BUILD-MAX-HEAP is $O(n)$. See CLRS."
   ]
  },
  {
   "cell_type": "markdown",
   "metadata": {},
   "source": [
    "# Section 6.4"
   ]
  },
  {
   "cell_type": "code",
   "execution_count": 27,
   "metadata": {},
   "outputs": [],
   "source": [
    "def Heapsort(A):\n",
    "    \n",
    "    n = len(A)\n",
    "    heap_size = n - 1\n",
    "    Build_Max_Heap(A,heap_size)\n",
    "    \n",
    "    for index in range (n-1,0,-1):\n",
    "        \n",
    "        A[0], A[index] = A[index], A[0]\n",
    "        heap_size = heap_size - 1\n",
    "        Max_Heapify(A,0,heap_size)\n",
    "        \n",
    "    return A    "
   ]
  },
  {
   "cell_type": "markdown",
   "metadata": {},
   "source": [
    "## Problem 1\n",
    "\n",
    "We simply state the final answer by applying the algorithm implemented above."
   ]
  },
  {
   "cell_type": "code",
   "execution_count": 28,
   "metadata": {},
   "outputs": [
    {
     "data": {
      "text/plain": [
       "[2, 4, 5, 7, 8, 13, 17, 20, 25]"
      ]
     },
     "execution_count": 28,
     "metadata": {},
     "output_type": "execute_result"
    }
   ],
   "source": [
    "A = [5,13,2,25,7,17,20,8,4]\n",
    "Heapsort(A)"
   ]
  },
  {
   "cell_type": "markdown",
   "metadata": {},
   "source": [
    "## Problem 2\n",
    "\n",
    "First let $i = n$. In this case, before the loop is run, then the array $A[1, \\cdots, n]$ is a max-heap as the max-heap algorithm is run before the start of the loop. It obviously contains the $n$ smallest elements of the array. The array $A[n + 1, \\cdots, n]$ is empty so the last condition is trivially satisfied. \n",
    "\n",
    "Assume the loop invariant is true for the value of $i$. Let's see what happens when the loop is executed. Since the subbary $A[1, \\cdots , i]$ is a max heap containing the the $i$ smallest elements of the the array $A[1, \\cdots, n]$, the largest of these $i$ elements is at the start of this subarray. In this case, we correctly swap $A[1]$ with $A[i]$ to put the $i^{th}$ largest element of the array in position $A[i]$. After this we reduce the heap-size by 1 and iternatively construct a max-heap for the subarray $A[1, \\cdots, i-1]$. Hence it is clear that now the subarray $A[1, \\cdots, i-1]$ is a max-heap containg the $i-1$ smallest elements of the array (after the swap mentioned above has been made. Furthermore, given the swap that has been made, it is clear that the subarray $A[i, \\cdots , n]$ contains the $n - (i+1)$ elements for $A[1, \\cdots, n]$. Hence the loop invariant is true when the value of $i$ is decremented to $i - 1$.\n",
    "\n",
    "## Problem 3\n",
    "\n",
    "If the array is in ascending order, then the BUILD-MAX-HEAP routine is run which takes $O(n)$ time. Then the argument given below holds true as well so on the whole the algorithm runs in $\\Theta ( n \\lg n)$ time.\n",
    "\n",
    "For the decrasing order case, the BUILD-MAX-HEAP routine runs in $\\Theta ( 1 )$ time as the array is already in desecending order. After that we have to run the MAX-HEAP-ITERATIVE procedure as the MAX-HEAP property is destroyed after we swap the first and last entries. The same holds true for all the remaining iterations. Hence the algorithm runs in $\\Theta ( n \\lg n)$ time.\n",
    "\n",
    "## Problem 4\n",
    "\n",
    "If the input array is in ascending order, then by 6.4.3, we are GUARANTEED that the the algorithm will run in $\\Theta ( n \\lg n)$ steps."
   ]
  },
  {
   "cell_type": "markdown",
   "metadata": {},
   "source": [
    "# Section 6.5\n",
    "\n",
    "## Priority Queue\n",
    "\n",
    "A priority queue acts like a queue in that items remain in it for some time before being dequeued. However, in a priority queue the logical order of items inside a queue is determined by their “priority”. Specifically, the highest priority items are retrieved from the queue ahead of lower priority items.\n",
    "\n",
    "<font color='red'>Hence this implies that the elements in the binary heap are arranged in order such that the element stored at the top of the heap is given the most priority and so on.</font>\n",
    "\n",
    "There are mainly 4 operations we want from a priority queue:\n",
    "\n",
    "\n",
    "<font color='red'>Insert:</font> To insert a new element in the queue. The running time is $(\\lg n)$ as it references the function used to implement the <font color='red'>Increase/Decrease key\n",
    "</font> attribute of the priority queue.\n",
    "\n",
    "<font color='red'>Maximum/Minimum:</font> To get the maximum and the minimum element from the max-priority queue and min-priority queue respectively.\n",
    "\n",
    "<font color='red'>Extract Maximum/Minimum:</font> To remove and return the maximum and the minimum element from the max-priority queue and min-priority queue respectively. The running time is $O(\\lg n)$ as over here we utilize the MAX-HEAPIFY function which runs in $O(\\lg n)$ time.\n",
    "\n",
    "<font color='red'>Increase/Decrease key:</font> To increase or decrease key of any element in the queue. The complexity of this step is $O(\\lg n)$ as we simply traverse along the binary heap tree which can be done in $O(\\lg n)$ time as the height of the tree is of order $\\lg n$.\n",
    "\n",
    "In summary, we can build a priority queue in $(\\lg n)$ time.\n",
    "\n",
    "Using our previous functions, let's try and implement it as a class."
   ]
  },
  {
   "cell_type": "code",
   "execution_count": 29,
   "metadata": {},
   "outputs": [],
   "source": [
    "import math\n",
    "import sys\n",
    "\n",
    "class Max_Priority_Queue(object):\n",
    "    \n",
    "    def __init__(self,heap,heap_size): \n",
    "        \n",
    "        self.heap = heap\n",
    "        self.heap_size = heap_size\n",
    "    \n",
    "    #We have already implemented the main functions. Let's implement the functions to implement\n",
    "    #our priority queue\n",
    "    \n",
    "    def Parent(self,i):\n",
    "        \n",
    "        parent = math.floor((i-1)/2)\n",
    "        \n",
    "        return parent\n",
    "    \n",
    "    \n",
    "    def Heap_Maximum(self): \n",
    "        \n",
    "        Maximum = self.heap[0]\n",
    "        \n",
    "        return Maximum\n",
    "    \n",
    "    \n",
    "    def Heap_Extract_Max(self,heap,heap_size):\n",
    "        \n",
    "        if self.heap_size < 0:\n",
    "            \n",
    "            sys.exit(\"We have encountered heap underflow.\")\n",
    "        \n",
    "        maximum = self.heap[0]\n",
    "        \n",
    "        #We now implement commands that effectively extract the maximum element, A[0], by \n",
    "        #appropriately heapifying the remaining array\n",
    "        \n",
    "        #The idea is to overwrite the last element over the first element, reduce heap_size by 1 and implement\n",
    "        #Max_Heapify function to Max_Heapify the relevant subarray\n",
    "        \n",
    "        self.heap[0] = self.heap[self.heap_size]\n",
    "        self.heap[self.heap_size] = maximum\n",
    "        \n",
    "        self.heap_size = self.heap_size - 1\n",
    "        self.heap = Max_Heapify(self.heap,0,self.heap_size)\n",
    "        self.heap = self.heap[0:heap_size]\n",
    "        \n",
    "        return maximum, self.heap\n",
    "    \n",
    "    def Heap_Increase_Key(self,i,key,heap_size,heap):\n",
    "        \n",
    "        if key < self.heap[i]:\n",
    "            \n",
    "            sys.exit(\"New key is smaller than current key.\")\n",
    "        \n",
    "        self.heap[i] = key\n",
    "        \n",
    "        #Because increasing the key of A[i] might violate the max-heap property, the procedure then, in a manner \n",
    "        #reminiscent of the insertion loop of INSERTION-SORT traverses a simple path from this node toward\n",
    "        #the root to find a proper place for the newly increased key.\n",
    "        \n",
    "        parent = self.Parent(i)\n",
    "        index = i\n",
    "        \n",
    "        while self.heap[index] > self.heap[parent]:\n",
    "            \n",
    "            self.heap[index], self.heap[parent] = self.heap[parent], self.heap[index]\n",
    "            \n",
    "            index = parent\n",
    "            parent = self.Parent(parent)\n",
    "         \n",
    "        return self.heap\n",
    "    \n",
    "    def Max_Heap_Insert(self,key,heap_size,heap):\n",
    "        \n",
    "        heap_size = heap_size + 1\n",
    "         \n",
    "        #The procedure first expands the max-heap by adding to the tree a new leaf whose key is a very small\n",
    "        #number. Then it calls HEAP-INCREASE-KEY to set the key of this new node to its correct value and \n",
    "        #maintain the MAX-HEAP property.    \n",
    "        \n",
    "        self.heap.append(-99999999999999999)\n",
    "        \n",
    "        self.Heap_Increase_Key(heap_size,key,heap_size,heap)\n",
    "        \n",
    "        return self.heap\n",
    "    \n",
    "    def Heap_Delete(self,heap,i,heap_size):\n",
    "        \n",
    "        self.heap[i],self.heap[self.heap_size] = self.heap[self.heap_size], self.heap[i]\n",
    "        self.heap_size = self.heap_size - 1\n",
    "        \n",
    "        self.heap = Max_Heapify(self.heap,i,self.heap_size)\n",
    "        self.heap = self.heap[0:heap_size]\n",
    "        \n",
    "        return self.heap"
   ]
  },
  {
   "cell_type": "markdown",
   "metadata": {},
   "source": [
    "## Problem 1"
   ]
  },
  {
   "cell_type": "code",
   "execution_count": 30,
   "metadata": {},
   "outputs": [
    {
     "data": {
      "text/plain": [
       "(15, [13, 12, 9, 5, 6, 8, 7, 4, 0, 1, 2])"
      ]
     },
     "execution_count": 30,
     "metadata": {},
     "output_type": "execute_result"
    }
   ],
   "source": [
    "A = [15,13,9,5,12,8,7,4,0,6,2,1]\n",
    "n = len(A)\n",
    "\n",
    "Q = Max_Priority_Queue(A,n-1)\n",
    "\n",
    "Q.Heap_Extract_Max(A,n-1) "
   ]
  },
  {
   "cell_type": "markdown",
   "metadata": {},
   "source": [
    "## Problem 2"
   ]
  },
  {
   "cell_type": "code",
   "execution_count": 31,
   "metadata": {},
   "outputs": [
    {
     "data": {
      "text/plain": [
       "[15, 13, 10, 5, 12, 9, 7, 4, 0, 6, 2, 1, 8]"
      ]
     },
     "execution_count": 31,
     "metadata": {},
     "output_type": "execute_result"
    }
   ],
   "source": [
    "A = [15,13,9,5,12,8,7,4,0,6,2,1]\n",
    "n = len(A)\n",
    "\n",
    "Q = Max_Priority_Queue(A,n-1)\n",
    "\n",
    "Q.Max_Heap_Insert(10,n-1,A) "
   ]
  },
  {
   "cell_type": "markdown",
   "metadata": {},
   "source": [
    "## Problem 3"
   ]
  },
  {
   "cell_type": "code",
   "execution_count": 78,
   "metadata": {},
   "outputs": [],
   "source": [
    "import math\n",
    "import sys\n",
    "\n",
    "class Min_Priority_Queue(object):\n",
    "    \n",
    "    def __init__(self,heap,heap_size): \n",
    "        \n",
    "        self.heap = heap\n",
    "        self.heap_size = heap_size\n",
    "    \n",
    "    #We have already implemented the main functions. Let's implement the functions to implement\n",
    "    #our priority queue\n",
    "    \n",
    "    def Parent(self,i):\n",
    "        \n",
    "        parent = math.floor((i-1)/2)\n",
    "        \n",
    "        return parent\n",
    "    \n",
    "    \n",
    "    def Heap_Minimum(self): \n",
    "        \n",
    "        Minimum = self.heap[0]\n",
    "        \n",
    "        return Minimum\n",
    "    \n",
    "    \n",
    "    def Heap_Extract_Min(self,heap,heap_size):\n",
    "        \n",
    "        if self.heap_size < 0:\n",
    "            \n",
    "            sys.exit(\"we have encountered heap underflow.\")\n",
    "        \n",
    "        minimum = self.heap[0]\n",
    "        \n",
    "        #We now implement commands that effectively extract the maximum element, A[0], by \n",
    "        #appropriately heapifying the remaining array\n",
    "        \n",
    "        #The idea is to overwrite the last element over the first element, reduce heap_size by 1 and implement\n",
    "        #Max_Heapify function to Max_Heapify the relevant subarray\n",
    "        \n",
    "        self.heap[0] = self.heap[self.heap_size]\n",
    "        self.heap[self.heap_size] = self.heap[0]\n",
    "        \n",
    "        self.heap_size = self.heap_size - 1\n",
    "        self.heap = Min_Heapify(self.heap,0,self.heap_size)\n",
    "        self.heap = self.heap[0:heap_size]\n",
    "        \n",
    "        return minimum, self.heap\n",
    "    \n",
    "    def Heap_Increase_Key(self,i,key,heap_size,heap):\n",
    "        \n",
    "        if key > self.heap[i]:\n",
    "            \n",
    "            sys.exit(\"New key is smaller than current key.\")\n",
    "        \n",
    "        self.heap[i] = key\n",
    "        \n",
    "        #Because increasing the key of A[i] might violate the max-heap property, the procedure then, in a manner \n",
    "        #reminiscent of the insertion loop of INSERTION-SORT averses a simple path from this node toward\n",
    "        #the root to find a proper place for the newly increased key.\n",
    "        \n",
    "        parent = self.Parent(i)\n",
    "        index = i\n",
    "        \n",
    "        while parent >= 0 and self.heap[index] < self.heap[parent]:\n",
    "            \n",
    "            self.heap[index], self.heap[parent] = self.heap[parent], self.heap[index]\n",
    "            \n",
    "            index = parent\n",
    "            parent = self.Parent(parent)\n",
    "            \n",
    "            \n",
    "        return self.heap\n",
    "    \n",
    "    def Min_Heap_Insert(self,key,heap_size,heap):\n",
    "        \n",
    "        heap_size = heap_size + 1\n",
    "         \n",
    "        #The procedure first expands the max-heap by adding to the tree a new leaf whose key is a very small\n",
    "        #number. Then it calls HEAP-INCREASE-KEY to set the key of this new node to its correct value and \n",
    "        #maintain the MAX-HEAP property.    \n",
    "        \n",
    "        self.heap.append(99999999999999999)\n",
    "        \n",
    "        self.Heap_Increase_Key(heap_size,key,heap_size,heap)\n",
    "        \n",
    "        return self.heap\n",
    "    \n",
    "    def Heap_Delete(self,heap,i,heap_size):\n",
    "        \n",
    "        self.heap[i],self.heap[self.heap_size] = self.heap[self.heap_size], self.heap[i]\n",
    "        self.heap_size = self.heap_size - 1\n",
    "        \n",
    "        self.heap = Min_Heapify(self.heap,i,self.heap_size)\n",
    "        self.heap = self.heap[0:heap_size]\n",
    "        \n",
    "        return self.heap"
   ]
  },
  {
   "cell_type": "markdown",
   "metadata": {},
   "source": [
    "## Problem 4\n",
    "\n",
    "See code above.\n",
    "\n",
    "## Problem 5\n",
    "\n",
    "To ensure that the MAX-HEAP property isn't violated by introducing a new node in the tree.\n",
    "\n",
    "## Problem 11"
   ]
  },
  {
   "cell_type": "code",
   "execution_count": 32,
   "metadata": {},
   "outputs": [],
   "source": [
    "def Merge_Multiple_Lists(K):\n",
    "    \n",
    "    Merged_List = []\n",
    "    \n",
    "    while len(K) != 0:\n",
    "        \n",
    "        Heap = []\n",
    "        \n",
    "        for l in K:\n",
    "            \n",
    "            Heap.append(l[0])\n",
    "                \n",
    "        n = len(Heap)\n",
    "        Min_Heap = Build_Min_Heap(Heap,n-1)\n",
    "        minimum = Min_Heap[0]\n",
    "        Merged_List.append(minimum)\n",
    "        \n",
    "        for l in K:\n",
    "            \n",
    "            if l[0] == minimum and len(l) == 1:\n",
    "                \n",
    "                K.remove(l)\n",
    "                break\n",
    "                \n",
    "            elif l[0] == minimum and len(l) > 1:\n",
    "                \n",
    "                l.remove(l[0])\n",
    "                break\n",
    "        \n",
    "    return Merged_List          "
   ]
  }
 ],
 "metadata": {
  "kernelspec": {
   "display_name": "Python 3",
   "language": "python",
   "name": "python3"
  },
  "language_info": {
   "codemirror_mode": {
    "name": "ipython",
    "version": 3
   },
   "file_extension": ".py",
   "mimetype": "text/x-python",
   "name": "python",
   "nbconvert_exporter": "python",
   "pygments_lexer": "ipython3",
   "version": "3.8.8"
  }
 },
 "nbformat": 4,
 "nbformat_minor": 4
}
